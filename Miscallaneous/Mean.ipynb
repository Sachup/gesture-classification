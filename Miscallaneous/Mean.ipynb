{
 "cells": [
  {
   "cell_type": "code",
   "execution_count": 20,
   "id": "5732cbf9",
   "metadata": {},
   "outputs": [],
   "source": [
    "import os\n",
    "import numpy as np"
   ]
  },
  {
   "cell_type": "code",
   "execution_count": 21,
   "id": "77a32dff",
   "metadata": {},
   "outputs": [],
   "source": [
    "path= r'/beegfs/ws/0/sapo684c-sac_space/Ellen_Dataset_with_Optical_Flow_Final/ellen_show_length_1300_sample_rate_1_iou_0.55'"
   ]
  },
  {
   "cell_type": "code",
   "execution_count": 22,
   "id": "15891600",
   "metadata": {},
   "outputs": [],
   "source": [
    "def calculate_mean_std_of_file(file_path):\n",
    "    print(file_path)\n",
    "    npz_file = np.load(file_path)\n",
    "    video_of = npz_file[\"video_OF\"]\n",
    "    # Remove the last 3 channels and keep only the first 3 channels\n",
    "    video_of = video_of[..., 3:6]\n",
    "    mean_pixel_value = np.mean(video_of)\n",
    "    std_pixel_value = np.std(video_of)\n",
    "    return mean_pixel_value, std_pixel_value"
   ]
  },
  {
   "cell_type": "code",
   "execution_count": null,
   "id": "b16c5073",
   "metadata": {},
   "outputs": [],
   "source": [
    "def load_video_of_from_folder(folder_path):\n",
    "    mean_std_list = []\n",
    "    count=0\n",
    "    for subfolder in os.listdir(folder_path):\n",
    "        subfolder_path = os.path.join(folder_path, subfolder)\n",
    "        if os.path.isdir(subfolder_path):\n",
    "            for filename in os.listdir(subfolder_path):\n",
    "                count+=1\n",
    "                print(count)\n",
    "                if filename.endswith(\".npz\"):\n",
    "                    file_path = os.path.join(subfolder_path, filename)\n",
    "                    mean, std = calculate_mean_std_of_file(file_path)\n",
    "                    mean_std_list.append((mean, std))\n",
    "    return mean_std_list\n",
    "\n",
    "folder_paths = [os.path.join(path, 'train')]\n",
    "mean_std_list_combined = [load_video_of_from_folder(folder_path) for folder_path in folder_paths]"
   ]
  },
  {
   "cell_type": "code",
   "execution_count": 24,
   "id": "48b36f5b",
   "metadata": {},
   "outputs": [],
   "source": [
    "overall_mean_list = np.mean([item[0] for sublist in mean_std_list_combined for item in sublist])\n",
    "overall_std_list = np.mean([item[1] for sublist in mean_std_list_combined for item in sublist])"
   ]
  },
  {
   "cell_type": "code",
   "execution_count": 25,
   "id": "0086ebdf",
   "metadata": {},
   "outputs": [],
   "source": [
    "overall_mean = np.mean(overall_mean_list)\n",
    "overall_std = np.mean(overall_std_list)"
   ]
  },
  {
   "cell_type": "code",
   "execution_count": null,
   "id": "48996066",
   "metadata": {},
   "outputs": [],
   "source": [
    "print(\"Overall Mean Pixel Value:\", overall_mean)\n",
    "print(\"Overall Standard Deviation Pixel Value:\", overall_std)"
   ]
  }
 ],
 "metadata": {
  "kernelspec": {
   "display_name": "arupi_alp",
   "language": "python",
   "name": "arupi_alp"
  },
  "language_info": {
   "codemirror_mode": {
    "name": "ipython",
    "version": 3
   },
   "file_extension": ".py",
   "mimetype": "text/x-python",
   "name": "python",
   "nbconvert_exporter": "python",
   "pygments_lexer": "ipython3",
   "version": "3.10.4"
  }
 },
 "nbformat": 4,
 "nbformat_minor": 5
}
